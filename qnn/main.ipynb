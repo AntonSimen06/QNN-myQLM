{
 "cells": [
  {
   "cell_type": "markdown",
   "metadata": {},
   "source": [
    "# Multiclass Variational Quantum Classifier"
   ]
  },
  {
   "cell_type": "code",
   "execution_count": 37,
   "metadata": {},
   "outputs": [],
   "source": [
    "import pandas as pd\n",
    "import numpy as np\n",
    "from sklearn import preprocessing\n",
    "from sklearn.model_selection import train_test_split\n",
    "\n",
    "#myqlm\n",
    "from qat.lang.AQASM import Program, H, RX, RY, RZ, Z, CNOT\n",
    "from qat.lang.AQASM import *\n",
    "from qat.qpus import get_default_qpu\n",
    "from qat.core import Observable, Term\n",
    "from qat.plugins import ScipyMinimizePlugin\n",
    "\n",
    "#imports\n",
    "import ipynb\n",
    "import import_ipynb\n",
    "from vqc_functions import data_embedding, ansatz"
   ]
  },
  {
   "cell_type": "markdown",
   "metadata": {},
   "source": [
    "## Data importing and preprocessing\n",
    "\n",
    "MinMax with feature range from $0$ to $2\\pi$."
   ]
  },
  {
   "cell_type": "code",
   "execution_count": 38,
   "metadata": {},
   "outputs": [],
   "source": [
    "data = pd.read_csv(r'C:\\\\Users\\\\anton.albino\\\\Documents\\\\Anton\\\\codigos\\\\myqlm\\\\qnn\\\\data\\\\iris.data')\n",
    "label = data.iloc[:, -1]\n",
    "features = data.iloc[:, :-1]"
   ]
  },
  {
   "cell_type": "code",
   "execution_count": 39,
   "metadata": {},
   "outputs": [],
   "source": [
    "x = features.values #returns a numpy array\n",
    "#data normalization (angles from 0 to 2pi)\n",
    "min_max_scaler = preprocessing.MinMaxScaler(feature_range=(0, 2*np.pi))\n",
    "x_scaled = min_max_scaler.fit_transform(x)\n",
    "features = pd.DataFrame(x_scaled)\n",
    "data = features.assign(labels = label)\n",
    "\n",
    "#spliting data\n",
    "training_data, testing_data = train_test_split(data, test_size=0.2, random_state=25)\n",
    "training_features = training_data.iloc[:, :-1]\n",
    "training_labels = training_data.iloc[:, -1]\n",
    "testing_features = testing_data.iloc[:, :-1]\n",
    "testing_labels = testing_data.iloc[:, -1]"
   ]
  },
  {
   "cell_type": "markdown",
   "metadata": {},
   "source": [
    "### TwoHot encoding\n",
    "\n",
    "Encoding labels into quantum state in a following settings:\n",
    "\n",
    "$3: |0011\\rangle$ encoding Iris-setosa.\n",
    "$6: |0110\\rangle$ encoding Iris-versicolor.\n",
    "$9: |1010\\rangle$ encoding Iris-virginica.\n",
    "\n"
   ]
  },
  {
   "cell_type": "code",
   "execution_count": 40,
   "metadata": {},
   "outputs": [],
   "source": [
    "twohotencoding_training = []\n",
    "for i, iris in enumerate(training_labels):\n",
    "    if iris == \"Iris-setosa\":\n",
    "        twohotencoding_training.append(3)\n",
    "    elif iris == \"Iris-versicolor\":\n",
    "        twohotencoding_training.append(6)\n",
    "    elif iris == \"Iris-virginica\":\n",
    "        twohotencoding_training.append(9)\n",
    "\n",
    "twohotencoding_testing = []\n",
    "for i, iris in enumerate(testing_labels):\n",
    "    if iris == \"Iris-setosa\":\n",
    "        twohotencoding_testing.append(3)\n",
    "    elif iris == \"Iris-versicolor\":\n",
    "        twohotencoding_testing.append(6)\n",
    "    elif iris == \"Iris-virginica\":\n",
    "        twohotencoding_testing.append(9)"
   ]
  },
  {
   "cell_type": "markdown",
   "metadata": {},
   "source": [
    "## Loss function\n",
    "\n",
    "Loss function used to training the QNN was the mean squared error (MSE) so that the estimator $\\hat{x} = \\hat{p}_{|x\\rangle}$ is compared with label $p_{|x\\rangle} = 1$ since as many as $\\hat{x} \\approx 1$ will minimize the MSE. Therefore, we can write the loss function as\n",
    "\n",
    "$$\\mathcal{L} = \\frac{1}{N}\\sum_{k=0}^{N}(\\hat{p}_{|x\\rangle} -1)^2$$"
   ]
  },
  {
   "cell_type": "code",
   "execution_count": 41,
   "metadata": {},
   "outputs": [],
   "source": [
    "num_layers = 7; num_qubits = (features.shape[1]); num_labels = 3\n",
    "\n",
    "def loss(parameters):\n",
    "    \"\"\"\n",
    "    Args\n",
    "        parameters: a np.array for tunable parameters;\n",
    "    Outpu\n",
    "        cost/len(training_data): mean squared error;\n",
    "        \n",
    "    \"\"\"\n",
    "    \n",
    "    cost=0\n",
    "    for k in range(len(training_features)):\n",
    "        v = training_features.iloc[k,:].to_numpy()\n",
    "\n",
    "        #create program\n",
    "        circuit = Program()\n",
    "        qbits = circuit.qalloc(len(v))\n",
    "\n",
    "        #create subcircuits\n",
    "        encoding = data_embedding(x=v)\n",
    "        variational = ansatz(parameters, feature_len=len(v), num_layers=num_layers)\n",
    "\n",
    "        #adding subcircuits into main circuit\n",
    "        encoding(qbits)\n",
    "        variational(qbits)\n",
    "\n",
    "        qc = circuit.to_circ()\n",
    "        job = qc.to_job()\n",
    "        result = get_default_qpu().submit(job)\n",
    "\n",
    "        meas = {}\n",
    "        for sample in result:\n",
    "            #sample._state returns quantum state in the decimal basis\n",
    "            meas[sample._state] = sample.probability\n",
    "        \n",
    "        estimator_0 = meas[2]+meas[3]+meas[4]\n",
    "        estimator_1 = meas[5]+meas[6]+meas[7]\n",
    "        estimator_2 = meas[8]+meas[9]+meas[10]\n",
    "\n",
    "        #calculating cost\n",
    "        if twohotencoding_training[k] not in meas:\n",
    "            cost += 1\n",
    "        else:\n",
    "            if twohotencoding_training[k]==3:\n",
    "                cost += abs(estimator_0 - 1)**2\n",
    "            elif twohotencoding_training[k]==6:\n",
    "                cost += abs(estimator_1 - 1)**2 \n",
    "            elif twohotencoding_training[k]==9:\n",
    "                cost += abs(estimator_2 - 1)**2\n",
    "        \n",
    "    return cost/len(training_features) #Mean squared error / Empirical Risk\n"
   ]
  },
  {
   "cell_type": "markdown",
   "metadata": {},
   "source": [
    "## Training "
   ]
  },
  {
   "cell_type": "code",
   "execution_count": 42,
   "metadata": {},
   "outputs": [
    {
     "name": "stdout",
     "output_type": "stream",
     "text": [
      "Iteration:  1  \t Loss:  0.6031183702098817\n",
      "Iteration:  2  \t Loss:  0.6498649364106667\n",
      "Iteration:  3  \t Loss:  0.44688586697519417\n",
      "Iteration:  4  \t Loss:  0.38388625599439097\n",
      "Iteration:  5  \t Loss:  0.3652487078198547\n",
      "Iteration:  6  \t Loss:  0.34371208086490646\n",
      "Iteration:  7  \t Loss:  0.31374912183419257\n",
      "Iteration:  8  \t Loss:  0.29490218297776305\n",
      "Iteration:  9  \t Loss:  0.2771715020235182\n",
      "Iteration:  10  \t Loss:  0.26405646821733697\n",
      "Iteration:  11  \t Loss:  0.2574154367696914\n",
      "Iteration:  12  \t Loss:  0.2538089704431186\n",
      "Iteration:  13  \t Loss:  0.25095202326362626\n",
      "Iteration:  14  \t Loss:  0.2469186528026414\n",
      "Iteration:  15  \t Loss:  0.24048734261994703\n",
      "Iteration:  16  \t Loss:  0.23708363697759996\n",
      "Iteration:  17  \t Loss:  0.2282294833592322\n",
      "Iteration:  18  \t Loss:  0.2190903058328506\n",
      "Iteration:  19  \t Loss:  0.21234172594597253\n",
      "Iteration:  20  \t Loss:  0.2075929417896873\n",
      "Iteration:  21  \t Loss:  0.20151779826569993\n",
      "Iteration:  22  \t Loss:  0.19836874805468324\n",
      "Iteration:  23  \t Loss:  0.19559259771907414\n",
      "Iteration:  24  \t Loss:  0.19191600041349485\n",
      "Iteration:  25  \t Loss:  0.1900147280488496\n",
      "Iteration:  26  \t Loss:  0.18730052650438472\n",
      "Iteration:  27  \t Loss:  0.18523842201021667\n",
      "Iteration:  28  \t Loss:  0.18345732657139519\n",
      "Iteration:  29  \t Loss:  0.18247903103995974\n",
      "Iteration:  30  \t Loss:  0.18156687078674907\n",
      "Iteration:  31  \t Loss:  0.18102227646468577\n",
      "Iteration:  32  \t Loss:  0.18053600990958418\n",
      "Iteration:  33  \t Loss:  0.18009723595204336\n",
      "Iteration:  34  \t Loss:  0.17960956392641672\n",
      "Iteration:  35  \t Loss:  0.17927203850573203\n",
      "Iteration:  36  \t Loss:  0.1789739105440876\n",
      "Iteration:  37  \t Loss:  0.17864541583964397\n",
      "Iteration:  38  \t Loss:  0.17826740788618628\n",
      "Iteration:  39  \t Loss:  0.1778970098398042\n",
      "Iteration:  40  \t Loss:  0.1775394300039683\n",
      "Iteration:  41  \t Loss:  0.17713590948381774\n",
      "Iteration:  42  \t Loss:  0.17665529702337948\n",
      "Iteration:  43  \t Loss:  0.17615590170216552\n",
      "Iteration:  44  \t Loss:  0.1758530161918292\n",
      "Iteration:  45  \t Loss:  0.17545387275172125\n",
      "Iteration:  46  \t Loss:  0.17527587812644752\n",
      "Iteration:  47  \t Loss:  0.17516000275390378\n",
      "Iteration:  48  \t Loss:  0.1750534906638682\n",
      "Iteration:  49  \t Loss:  0.17489904274352683\n",
      "Iteration:  50  \t Loss:  0.17473070199597793\n",
      "Iteration:  51  \t Loss:  0.17458082540137332\n",
      "Iteration:  52  \t Loss:  0.17447304337824093\n",
      "Iteration:  53  \t Loss:  0.17438716702526014\n",
      "Iteration:  54  \t Loss:  0.1743036323822493\n",
      "Iteration:  55  \t Loss:  0.17421093596326714\n",
      "Iteration:  56  \t Loss:  0.1740968068521971\n",
      "Iteration:  57  \t Loss:  0.1739257944121243\n",
      "Iteration:  58  \t Loss:  0.17370886662550306\n",
      "Iteration:  59  \t Loss:  0.17353679505046365\n",
      "Iteration:  60  \t Loss:  0.1734189626965688\n",
      "Iteration:  61  \t Loss:  0.17336161832459854\n",
      "Iteration:  62  \t Loss:  0.17328995588131726\n",
      "Iteration:  63  \t Loss:  0.17322700907656402\n",
      "Iteration:  64  \t Loss:  0.1731842238742976\n",
      "Iteration:  65  \t Loss:  0.17314622137838595\n",
      "Iteration:  66  \t Loss:  0.17312618831766025\n",
      "Iteration:  67  \t Loss:  0.1731140231709886\n",
      "Iteration:  68  \t Loss:  0.17310826792905643\n",
      "Iteration:  69  \t Loss:  0.17310507466729094\n",
      "Iteration:  70  \t Loss:  0.1731030350686394\n",
      "Iteration:  71  \t Loss:  0.1731019922648902\n",
      "Iteration:  72  \t Loss:  0.1731019922648902\n",
      "Optimization terminated successfully    (Exit mode 0)\n",
      "            Current function value: 0.1731019922648902\n",
      "            Iterations: 72\n",
      "            Function evaluations: 2089\n",
      "            Gradient evaluations: 72\n"
     ]
    },
    {
     "data": {
      "text/plain": [
       "     fun: 0.1731019922648902\n",
       "     jac: array([ 4.36976552e-06, -1.01272017e-05, -8.40947032e-05,  5.66821545e-05,\n",
       "        1.37846917e-04,  2.72933394e-05,  4.60203737e-05, -5.42271882e-05,\n",
       "        6.07110560e-05, -1.58170238e-04,  2.00178474e-05, -1.08389184e-04,\n",
       "        5.15412539e-05,  5.21074980e-05,  1.82045624e-04, -1.79624185e-04,\n",
       "        1.30385160e-04,  4.60408628e-05, -6.17355108e-05, -8.26139003e-05,\n",
       "       -9.39927995e-05,  4.73111868e-05, -4.32841480e-05, -8.23866576e-05,\n",
       "        3.49469483e-05,  1.22778118e-04, -2.25417316e-05,  1.64154917e-05])\n",
       " message: 'Optimization terminated successfully'\n",
       "    nfev: 2089\n",
       "     nit: 72\n",
       "    njev: 72\n",
       "  status: 0\n",
       " success: True\n",
       "       x: array([ 3.30587817,  6.69292043,  3.50889584,  0.32559823,  3.46214458,\n",
       "        3.55136401,  1.03513506,  5.00192901,  5.52143889,  3.65080673,\n",
       "        4.01812161,  0.86123823,  3.07038317,  4.24906141,  5.76079859,\n",
       "        3.013041  ,  0.45240768,  3.97954844,  2.70792691, -1.540612  ,\n",
       "        1.62734776,  0.97919676, -0.20347655,  3.03936061,  2.649069  ,\n",
       "        3.87032   , -0.33616231,  2.49252227])"
      ]
     },
     "execution_count": 42,
     "metadata": {},
     "output_type": "execute_result"
    }
   ],
   "source": [
    "import scipy\n",
    "from scipy.optimize import minimize\n",
    "\n",
    "iteration=1\n",
    "convergence = []\n",
    "def callback(variational_parameters):\n",
    "    global iteration\n",
    "    convergence.append(loss(variational_parameters))\n",
    "    print(\"Iteration: \", iteration, \" \\t Loss: \",  loss(variational_parameters))\n",
    "    iteration += 1\n",
    "\n",
    "\n",
    "res = scipy.optimize.minimize(loss, x0=np.random.uniform(0, 2*np.pi, num_layers*num_qubits), \n",
    "                                method = 'SLSQP', callback=callback,\n",
    "                                options={'maxiter': 200, 'ftol': 1e-06, 'iprint': 1, 'disp': True, \n",
    "                                'eps': 1.4901161193847656e-08, 'finite_diff_rel_step': None})\n",
    "\n",
    "res"
   ]
  },
  {
   "cell_type": "markdown",
   "metadata": {},
   "source": [
    "## Testing "
   ]
  },
  {
   "cell_type": "code",
   "execution_count": 56,
   "metadata": {},
   "outputs": [
    {
     "name": "stdout",
     "output_type": "stream",
     "text": [
      "Sample: 0 \t Inference:  True\n",
      "Sample: 1 \t Inference:  True\n",
      "Sample: 2 \t Inference:  True\n",
      "Sample: 3 \t Inference:  True\n",
      "Sample: 4 \t Inference:  True\n",
      "Sample: 5 \t Inference:  True\n",
      "Sample: 6 \t Inference:  True\n",
      "Sample: 7 \t Inference:  True\n",
      "Sample: 8 \t Inference:  True\n",
      "Sample: 9 \t Inference:  True\n",
      "Sample: 10 \t Inference:  True\n",
      "Sample: 11 \t Inference:  True\n",
      "Sample: 12 \t Inference:  True\n",
      "Sample: 13 \t Inference:  True\n",
      "Sample: 14 \t Inference:  False  - Misclassified\n",
      "Sample: 15 \t Inference:  True\n",
      "Sample: 16 \t Inference:  True\n",
      "Sample: 17 \t Inference:  False  - Misclassified\n",
      "Sample: 18 \t Inference:  True\n",
      "Sample: 19 \t Inference:  True\n",
      "Sample: 20 \t Inference:  True\n",
      "Sample: 21 \t Inference:  True\n",
      "Sample: 22 \t Inference:  True\n",
      "Sample: 23 \t Inference:  True\n",
      "Sample: 24 \t Inference:  True\n",
      "Sample: 25 \t Inference:  True\n",
      "Sample: 26 \t Inference:  True\n",
      "Sample: 27 \t Inference:  True\n",
      "Sample: 28 \t Inference:  True\n",
      "Sample: 29 \t Inference:  True\n",
      "\n",
      " \n",
      " \n",
      " Accuracy:  0.9333333333333333\n"
     ]
    }
   ],
   "source": [
    "def testing():\n",
    "    trues = []\n",
    "    for i, y_data in enumerate(testing_labels):\n",
    "\n",
    "        circuit = Program()\n",
    "        v = testing_features.iloc[i].to_numpy()\n",
    "        qbits = circuit.qalloc(len(v))\n",
    "\n",
    "        #create subcircuits\n",
    "        encoding = data_embedding(x=v)\n",
    "        #trained ansatz\n",
    "        variational = ansatz(res['x'], feature_len=len(v), num_layers=num_layers)\n",
    "\n",
    "        #adding subcircuits into main circuit\n",
    "        encoding(qbits)\n",
    "        variational(qbits)\n",
    "        \n",
    "        qc = circuit.to_circ()\n",
    "        job = qc.to_job()\n",
    "        result = get_default_qpu().submit(job)\n",
    "\n",
    "        meas = {}\n",
    "        for sample in result:\n",
    "            meas[sample._state] = sample.probability\n",
    "\n",
    "        #testing\n",
    "        estimator_0 = meas[2]+meas[3]+meas[4]\n",
    "        estimator_1 = meas[5]+meas[6]+meas[7]\n",
    "        estimator_2 = meas[8]+meas[9]+meas[10]\n",
    "\n",
    "        irislabels = [estimator_0, estimator_1, estimator_2]\n",
    "\n",
    "\n",
    "        if (twohotencoding_testing[i]==3 and estimator_0 > estimator_1 and estimator_0 > estimator_2):\n",
    "            trues.append(1)\n",
    "            print(f\"Sample: {i} \\t Inference: \", True)\n",
    "        elif (twohotencoding_testing[i]==6 and estimator_1 > estimator_0 and estimator_1 > estimator_2):\n",
    "            trues.append(1)\n",
    "            print(f\"Sample: {i} \\t Inference: \", True)\n",
    "        elif (twohotencoding_testing[i]==9 and estimator_2 > estimator_0 and estimator_2 > estimator_1):\n",
    "            trues.append(1)\n",
    "            print(f\"Sample: {i} \\t Inference: \", True)\n",
    "        else:\n",
    "            print(f\"Sample: {i} \\t Inference: \", False, \" - Misclassified\")\n",
    "\n",
    "    return trues\n",
    "\n",
    "\n",
    "print('\\n \\n \\n Accuracy: ', len(testing())/len(testing_labels))"
   ]
  },
  {
   "cell_type": "code",
   "execution_count": 44,
   "metadata": {},
   "outputs": [
    {
     "data": {
      "image/png": "[encoded data removed]",
      "text/plain": [
       "<Figure size 432x288 with 1 Axes>"
      ]
     },
     "metadata": {
      "needs_background": "light"
     },
     "output_type": "display_data"
    }
   ],
   "source": [
    "import matplotlib.pyplot as plt\n",
    "plt.plot(convergence)\n",
    "plt.xlabel(\"Epoch\")\n",
    "plt.ylabel(\"Loss value\")\n",
    "plt.grid()\n"
   ]
  },
  {
   "cell_type": "code",
   "execution_count": 47,
   "metadata": {},
   "outputs": [
    {
     "name": "stdout",
     "output_type": "stream",
     "text": [
      " A total of 30 testing samples were used and 28 were classified correctly.\n"
     ]
    }
   ],
   "source": [
    "print(f\" A total of {testing_data.shape[0]} testing samples were used and {len(trues)} were classified correctly.\")"
   ]
  }
 ],
 "metadata": {
  "kernelspec": {
   "display_name": "Python 3.9.12 ('base')",
   "language": "python",
   "name": "python3"
  },
  "language_info": {
   "codemirror_mode": {
    "name": "ipython",
    "version": 3
   },
   "file_extension": ".py",
   "mimetype": "text/x-python",
   "name": "python",
   "nbconvert_exporter": "python",
   "pygments_lexer": "ipython3",
   "version": "3.9.12"
  },
  "orig_nbformat": 4,
  "vscode": {
   "interpreter": {
    "hash": "ad2bdc8ecc057115af97d19610ffacc2b4e99fae6737bb82f5d7fb13d2f2c186"
   }
  }
 },
 "nbformat": 4,
 "nbformat_minor": 2
}
