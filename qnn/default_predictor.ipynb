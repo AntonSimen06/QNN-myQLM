{
 "cells": [
  {
   "cell_type": "markdown",
   "metadata": {},
   "source": [
    "# Multiclass Variational Quantum Classifier"
   ]
  },
  {
   "cell_type": "code",
   "execution_count": 46,
   "metadata": {},
   "outputs": [],
   "source": [
    "import pandas as pd\n",
    "import numpy as np\n",
    "from sklearn import preprocessing\n",
    "from sklearn.model_selection import train_test_split\n",
    "\n",
    "#myqlm\n",
    "from qat.lang.AQASM import Program, H, RX, RY, RZ, Z, CNOT\n",
    "from qat.lang.AQASM import *\n",
    "from qat.qpus import get_default_qpu\n",
    "from qat.core import Observable, Term\n",
    "from qat.plugins import ScipyMinimizePlugin\n",
    "\n",
    "#imports\n",
    "import ipynb\n",
    "import import_ipynb\n",
    "from vqc_functions import data_embedding, ansatz"
   ]
  },
  {
   "cell_type": "markdown",
   "metadata": {},
   "source": [
    "## Data importing and preprocessing\n",
    "\n",
    "MinMax with feature range from $0$ to $2\\pi$."
   ]
  },
  {
   "cell_type": "code",
   "execution_count": 47,
   "metadata": {},
   "outputs": [],
   "source": [
    "data = pd.read_csv(r'C:\\\\Users\\\\OS-5818\\\\Downloads\\\\credit_data.txt')\n",
    "label = data.iloc[:, -1]\n",
    "features = data.iloc[:, :-1]"
   ]
  },
  {
   "cell_type": "code",
   "execution_count": 48,
   "metadata": {},
   "outputs": [],
   "source": [
    "x = features.values #returns a numpy array\n",
    "#data normalization (angles from 0 to 2pi)\n",
    "min_max_scaler = preprocessing.MinMaxScaler(feature_range=(0, 2*np.pi))\n",
    "x_scaled = min_max_scaler.fit_transform(x)\n",
    "features = pd.DataFrame(x_scaled)\n",
    "data = features.assign(labels = label)\n",
    "\n",
    "#spliting data\n",
    "training_data, testing_data = train_test_split(data, test_size=0.2, random_state=25)\n",
    "training_features = training_data.iloc[:, :-1]\n",
    "training_labels = training_data.iloc[:, -1]\n",
    "testing_features = testing_data.iloc[:, :-1]\n",
    "testing_labels = testing_data.iloc[:, -1]"
   ]
  },
  {
   "cell_type": "markdown",
   "metadata": {},
   "source": [
    "## Loss function\n",
    "\n",
    "Loss function used to training the QNN was the mean squared error (MSE) so that the estimator $\\hat{x} = \\hat{p}_{|x\\rangle}$ is compared with label $p_{|x\\rangle} = 1$ since as many as $\\hat{x} \\approx 1$ will minimize the MSE. Therefore, we can write the loss function as\n",
    "\n",
    "$$\\mathcal{L} = \\frac{1}{N}\\sum_{k=0}^{N}(\\hat{p}_{|x\\rangle} -1)^2$$"
   ]
  },
  {
   "cell_type": "code",
   "execution_count": 49,
   "metadata": {},
   "outputs": [],
   "source": [
    "num_layers = 2; num_qubits = (features.shape[1]); num_labels = 2\n",
    "\n",
    "def loss(parameters):\n",
    "    \"\"\"\n",
    "    Args\n",
    "        parameters: a np.array for tunable parameters;\n",
    "    Outpu\n",
    "        cost/len(training_data): mean squared error;\n",
    "        \n",
    "    \"\"\"\n",
    "    \n",
    "    cost=0\n",
    "    for k in range(len(training_features)):\n",
    "        v = training_features.iloc[k,:].to_numpy()\n",
    "\n",
    "        #create program\n",
    "        circuit = Program()\n",
    "        qbits = circuit.qalloc(len(v))\n",
    "\n",
    "        #create subcircuits\n",
    "        encoding = data_embedding(x=v)\n",
    "        variational = ansatz(parameters, feature_len=len(v), num_layers=num_layers)\n",
    "\n",
    "        #adding subcircuits into main circuit\n",
    "        encoding(qbits)\n",
    "        variational(qbits)\n",
    "\n",
    "        qc = circuit.to_circ()\n",
    "        job = qc.to_job()\n",
    "        result = get_default_qpu().submit(job)\n",
    "\n",
    "        meas = {}; estimator = 0\n",
    "        for sample in result:\n",
    "            #sample._state returns quantum state in the decimal basis\n",
    "            meas[sample._state] = sample.probability\n",
    "\n",
    "            if sample._state in range(32):\n",
    "                estimator -= sample.probability\n",
    "            else:\n",
    "                estimator += sample.probability\n",
    "        \n",
    "        \n",
    "        \n",
    "        # debugging\n",
    "        #for eigstate in range(2**num_qubits):\n",
    "        #    if eigstate not in meas:\n",
    "        #        meas[eigstate]=0\n",
    "\n",
    "        \n",
    "        # parity function: Paulistring <ZIIIII> \n",
    "        #estimator = (- sum([ meas[i] for i in range(int((2**num_qubits)/2)) ]) + \n",
    "        #            sum([meas[i] for i in range(int((2**num_qubits)/2), int(num_qubits**2))]))\n",
    "        \n",
    "        #print(len(meas))\n",
    "        \n",
    "        #calculating cost\n",
    "        if list(training_labels)[k]== 1:\n",
    "            cost += (estimator - 1)**2\n",
    "        elif list(training_labels)[k]== -1:\n",
    "            cost += (estimator + 1)**2\n",
    "        \n",
    "    return cost/len(training_features) #Mean squared error / Empirical Risk / Log Loss\n"
   ]
  },
  {
   "cell_type": "markdown",
   "metadata": {},
   "source": [
    "## Training "
   ]
  },
  {
   "cell_type": "code",
   "execution_count": 50,
   "metadata": {},
   "outputs": [
    {
     "ename": "KeyboardInterrupt",
     "evalue": "",
     "output_type": "error",
     "traceback": [
      "\u001b[1;31m---------------------------------------------------------------------------\u001b[0m",
      "\u001b[1;31mKeyboardInterrupt\u001b[0m                         Traceback (most recent call last)",
      "\u001b[1;32m~\\AppData\\Local\\Temp/ipykernel_9412/914071474.py\u001b[0m in \u001b[0;36m<module>\u001b[1;34m\u001b[0m\n\u001b[0;32m     11\u001b[0m \u001b[1;33m\u001b[0m\u001b[0m\n\u001b[0;32m     12\u001b[0m \u001b[1;33m\u001b[0m\u001b[0m\n\u001b[1;32m---> 13\u001b[1;33m res = scipy.optimize.minimize(loss, x0=np.random.uniform(0, 2*np.pi, num_layers*num_qubits), \n\u001b[0m\u001b[0;32m     14\u001b[0m                                 \u001b[0mmethod\u001b[0m \u001b[1;33m=\u001b[0m \u001b[1;34m'SLSQP'\u001b[0m\u001b[1;33m,\u001b[0m \u001b[0mcallback\u001b[0m\u001b[1;33m=\u001b[0m\u001b[0mcallback\u001b[0m\u001b[1;33m,\u001b[0m\u001b[1;33m\u001b[0m\u001b[1;33m\u001b[0m\u001b[0m\n\u001b[0;32m     15\u001b[0m                                 options={'maxiter': 200, 'ftol': 1e-06, 'iprint': 1, 'disp': True, \n",
      "\u001b[1;32mc:\\Users\\OS-5818\\anaconda3\\lib\\site-packages\\scipy\\optimize\\_minimize.py\u001b[0m in \u001b[0;36mminimize\u001b[1;34m(fun, x0, args, method, jac, hess, hessp, bounds, constraints, tol, callback, options)\u001b[0m\n\u001b[0;32m    629\u001b[0m         \u001b[1;32mreturn\u001b[0m \u001b[0m_minimize_cobyla\u001b[0m\u001b[1;33m(\u001b[0m\u001b[0mfun\u001b[0m\u001b[1;33m,\u001b[0m \u001b[0mx0\u001b[0m\u001b[1;33m,\u001b[0m \u001b[0margs\u001b[0m\u001b[1;33m,\u001b[0m \u001b[0mconstraints\u001b[0m\u001b[1;33m,\u001b[0m \u001b[1;33m**\u001b[0m\u001b[0moptions\u001b[0m\u001b[1;33m)\u001b[0m\u001b[1;33m\u001b[0m\u001b[1;33m\u001b[0m\u001b[0m\n\u001b[0;32m    630\u001b[0m     \u001b[1;32melif\u001b[0m \u001b[0mmeth\u001b[0m \u001b[1;33m==\u001b[0m \u001b[1;34m'slsqp'\u001b[0m\u001b[1;33m:\u001b[0m\u001b[1;33m\u001b[0m\u001b[1;33m\u001b[0m\u001b[0m\n\u001b[1;32m--> 631\u001b[1;33m         return _minimize_slsqp(fun, x0, args, jac, bounds,\n\u001b[0m\u001b[0;32m    632\u001b[0m                                constraints, callback=callback, **options)\n\u001b[0;32m    633\u001b[0m     \u001b[1;32melif\u001b[0m \u001b[0mmeth\u001b[0m \u001b[1;33m==\u001b[0m \u001b[1;34m'trust-constr'\u001b[0m\u001b[1;33m:\u001b[0m\u001b[1;33m\u001b[0m\u001b[1;33m\u001b[0m\u001b[0m\n",
      "\u001b[1;32mc:\\Users\\OS-5818\\anaconda3\\lib\\site-packages\\scipy\\optimize\\slsqp.py\u001b[0m in \u001b[0;36m_minimize_slsqp\u001b[1;34m(func, x0, args, jac, bounds, constraints, maxiter, ftol, iprint, disp, eps, callback, finite_diff_rel_step, **unknown_options)\u001b[0m\n\u001b[0;32m    373\u001b[0m \u001b[1;33m\u001b[0m\u001b[0m\n\u001b[0;32m    374\u001b[0m     \u001b[1;31m# ScalarFunction provides function and gradient evaluation\u001b[0m\u001b[1;33m\u001b[0m\u001b[1;33m\u001b[0m\u001b[0m\n\u001b[1;32m--> 375\u001b[1;33m     sf = _prepare_scalar_function(func, x, jac=jac, args=args, epsilon=eps,\n\u001b[0m\u001b[0;32m    376\u001b[0m                                   \u001b[0mfinite_diff_rel_step\u001b[0m\u001b[1;33m=\u001b[0m\u001b[0mfinite_diff_rel_step\u001b[0m\u001b[1;33m,\u001b[0m\u001b[1;33m\u001b[0m\u001b[1;33m\u001b[0m\u001b[0m\n\u001b[0;32m    377\u001b[0m                                   bounds=new_bounds)\n",
      "\u001b[1;32mc:\\Users\\OS-5818\\anaconda3\\lib\\site-packages\\scipy\\optimize\\optimize.py\u001b[0m in \u001b[0;36m_prepare_scalar_function\u001b[1;34m(fun, x0, jac, args, bounds, epsilon, finite_diff_rel_step, hess)\u001b[0m\n\u001b[0;32m    259\u001b[0m     \u001b[1;31m# ScalarFunction caches. Reuse of fun(x) during grad\u001b[0m\u001b[1;33m\u001b[0m\u001b[1;33m\u001b[0m\u001b[0m\n\u001b[0;32m    260\u001b[0m     \u001b[1;31m# calculation reduces overall function evaluations.\u001b[0m\u001b[1;33m\u001b[0m\u001b[1;33m\u001b[0m\u001b[0m\n\u001b[1;32m--> 261\u001b[1;33m     sf = ScalarFunction(fun, x0, args, grad, hess,\n\u001b[0m\u001b[0;32m    262\u001b[0m                         finite_diff_rel_step, bounds, epsilon=epsilon)\n\u001b[0;32m    263\u001b[0m \u001b[1;33m\u001b[0m\u001b[0m\n",
      "\u001b[1;32mc:\\Users\\OS-5818\\anaconda3\\lib\\site-packages\\scipy\\optimize\\_differentiable_functions.py\u001b[0m in \u001b[0;36m__init__\u001b[1;34m(self, fun, x0, args, grad, hess, finite_diff_rel_step, finite_diff_bounds, epsilon)\u001b[0m\n\u001b[0;32m    157\u001b[0m \u001b[1;33m\u001b[0m\u001b[0m\n\u001b[0;32m    158\u001b[0m         \u001b[0mself\u001b[0m\u001b[1;33m.\u001b[0m\u001b[0m_update_grad_impl\u001b[0m \u001b[1;33m=\u001b[0m \u001b[0mupdate_grad\u001b[0m\u001b[1;33m\u001b[0m\u001b[1;33m\u001b[0m\u001b[0m\n\u001b[1;32m--> 159\u001b[1;33m         \u001b[0mself\u001b[0m\u001b[1;33m.\u001b[0m\u001b[0m_update_grad\u001b[0m\u001b[1;33m(\u001b[0m\u001b[1;33m)\u001b[0m\u001b[1;33m\u001b[0m\u001b[1;33m\u001b[0m\u001b[0m\n\u001b[0m\u001b[0;32m    160\u001b[0m \u001b[1;33m\u001b[0m\u001b[0m\n\u001b[0;32m    161\u001b[0m         \u001b[1;31m# Hessian Evaluation\u001b[0m\u001b[1;33m\u001b[0m\u001b[1;33m\u001b[0m\u001b[0m\n",
      "\u001b[1;32mc:\\Users\\OS-5818\\anaconda3\\lib\\site-packages\\scipy\\optimize\\_differentiable_functions.py\u001b[0m in \u001b[0;36m_update_grad\u001b[1;34m(self)\u001b[0m\n\u001b[0;32m    236\u001b[0m     \u001b[1;32mdef\u001b[0m \u001b[0m_update_grad\u001b[0m\u001b[1;33m(\u001b[0m\u001b[0mself\u001b[0m\u001b[1;33m)\u001b[0m\u001b[1;33m:\u001b[0m\u001b[1;33m\u001b[0m\u001b[1;33m\u001b[0m\u001b[0m\n\u001b[0;32m    237\u001b[0m         \u001b[1;32mif\u001b[0m \u001b[1;32mnot\u001b[0m \u001b[0mself\u001b[0m\u001b[1;33m.\u001b[0m\u001b[0mg_updated\u001b[0m\u001b[1;33m:\u001b[0m\u001b[1;33m\u001b[0m\u001b[1;33m\u001b[0m\u001b[0m\n\u001b[1;32m--> 238\u001b[1;33m             \u001b[0mself\u001b[0m\u001b[1;33m.\u001b[0m\u001b[0m_update_grad_impl\u001b[0m\u001b[1;33m(\u001b[0m\u001b[1;33m)\u001b[0m\u001b[1;33m\u001b[0m\u001b[1;33m\u001b[0m\u001b[0m\n\u001b[0m\u001b[0;32m    239\u001b[0m             \u001b[0mself\u001b[0m\u001b[1;33m.\u001b[0m\u001b[0mg_updated\u001b[0m \u001b[1;33m=\u001b[0m \u001b[1;32mTrue\u001b[0m\u001b[1;33m\u001b[0m\u001b[1;33m\u001b[0m\u001b[0m\n\u001b[0;32m    240\u001b[0m \u001b[1;33m\u001b[0m\u001b[0m\n",
      "\u001b[1;32mc:\\Users\\OS-5818\\anaconda3\\lib\\site-packages\\scipy\\optimize\\_differentiable_functions.py\u001b[0m in \u001b[0;36mupdate_grad\u001b[1;34m()\u001b[0m\n\u001b[0;32m    153\u001b[0m                 \u001b[0mself\u001b[0m\u001b[1;33m.\u001b[0m\u001b[0m_update_fun\u001b[0m\u001b[1;33m(\u001b[0m\u001b[1;33m)\u001b[0m\u001b[1;33m\u001b[0m\u001b[1;33m\u001b[0m\u001b[0m\n\u001b[0;32m    154\u001b[0m                 \u001b[0mself\u001b[0m\u001b[1;33m.\u001b[0m\u001b[0mngev\u001b[0m \u001b[1;33m+=\u001b[0m \u001b[1;36m1\u001b[0m\u001b[1;33m\u001b[0m\u001b[1;33m\u001b[0m\u001b[0m\n\u001b[1;32m--> 155\u001b[1;33m                 self.g = approx_derivative(fun_wrapped, self.x, f0=self.f,\n\u001b[0m\u001b[0;32m    156\u001b[0m                                            **finite_diff_options)\n\u001b[0;32m    157\u001b[0m \u001b[1;33m\u001b[0m\u001b[0m\n",
      "\u001b[1;32mc:\\Users\\OS-5818\\anaconda3\\lib\\site-packages\\scipy\\optimize\\_numdiff.py\u001b[0m in \u001b[0;36mapprox_derivative\u001b[1;34m(fun, x0, method, rel_step, abs_step, f0, bounds, sparsity, as_linear_operator, args, kwargs)\u001b[0m\n\u001b[0;32m    484\u001b[0m \u001b[1;33m\u001b[0m\u001b[0m\n\u001b[0;32m    485\u001b[0m         \u001b[1;32mif\u001b[0m \u001b[0msparsity\u001b[0m \u001b[1;32mis\u001b[0m \u001b[1;32mNone\u001b[0m\u001b[1;33m:\u001b[0m\u001b[1;33m\u001b[0m\u001b[1;33m\u001b[0m\u001b[0m\n\u001b[1;32m--> 486\u001b[1;33m             return _dense_difference(fun_wrapped, x0, f0, h,\n\u001b[0m\u001b[0;32m    487\u001b[0m                                      use_one_sided, method)\n\u001b[0;32m    488\u001b[0m         \u001b[1;32melse\u001b[0m\u001b[1;33m:\u001b[0m\u001b[1;33m\u001b[0m\u001b[1;33m\u001b[0m\u001b[0m\n",
      "\u001b[1;32mc:\\Users\\OS-5818\\anaconda3\\lib\\site-packages\\scipy\\optimize\\_numdiff.py\u001b[0m in \u001b[0;36m_dense_difference\u001b[1;34m(fun, x0, f0, h, use_one_sided, method)\u001b[0m\n\u001b[0;32m    555\u001b[0m             \u001b[0mx\u001b[0m \u001b[1;33m=\u001b[0m \u001b[0mx0\u001b[0m \u001b[1;33m+\u001b[0m \u001b[0mh_vecs\u001b[0m\u001b[1;33m[\u001b[0m\u001b[0mi\u001b[0m\u001b[1;33m]\u001b[0m\u001b[1;33m\u001b[0m\u001b[1;33m\u001b[0m\u001b[0m\n\u001b[0;32m    556\u001b[0m             \u001b[0mdx\u001b[0m \u001b[1;33m=\u001b[0m \u001b[0mx\u001b[0m\u001b[1;33m[\u001b[0m\u001b[0mi\u001b[0m\u001b[1;33m]\u001b[0m \u001b[1;33m-\u001b[0m \u001b[0mx0\u001b[0m\u001b[1;33m[\u001b[0m\u001b[0mi\u001b[0m\u001b[1;33m]\u001b[0m  \u001b[1;31m# Recompute dx as exactly representable number.\u001b[0m\u001b[1;33m\u001b[0m\u001b[1;33m\u001b[0m\u001b[0m\n\u001b[1;32m--> 557\u001b[1;33m             \u001b[0mdf\u001b[0m \u001b[1;33m=\u001b[0m \u001b[0mfun\u001b[0m\u001b[1;33m(\u001b[0m\u001b[0mx\u001b[0m\u001b[1;33m)\u001b[0m \u001b[1;33m-\u001b[0m \u001b[0mf0\u001b[0m\u001b[1;33m\u001b[0m\u001b[1;33m\u001b[0m\u001b[0m\n\u001b[0m\u001b[0;32m    558\u001b[0m         \u001b[1;32melif\u001b[0m \u001b[0mmethod\u001b[0m \u001b[1;33m==\u001b[0m \u001b[1;34m'3-point'\u001b[0m \u001b[1;32mand\u001b[0m \u001b[0muse_one_sided\u001b[0m\u001b[1;33m[\u001b[0m\u001b[0mi\u001b[0m\u001b[1;33m]\u001b[0m\u001b[1;33m:\u001b[0m\u001b[1;33m\u001b[0m\u001b[1;33m\u001b[0m\u001b[0m\n\u001b[0;32m    559\u001b[0m             \u001b[0mx1\u001b[0m \u001b[1;33m=\u001b[0m \u001b[0mx0\u001b[0m \u001b[1;33m+\u001b[0m \u001b[0mh_vecs\u001b[0m\u001b[1;33m[\u001b[0m\u001b[0mi\u001b[0m\u001b[1;33m]\u001b[0m\u001b[1;33m\u001b[0m\u001b[1;33m\u001b[0m\u001b[0m\n",
      "\u001b[1;32mc:\\Users\\OS-5818\\anaconda3\\lib\\site-packages\\scipy\\optimize\\_numdiff.py\u001b[0m in \u001b[0;36mfun_wrapped\u001b[1;34m(x)\u001b[0m\n\u001b[0;32m    435\u001b[0m \u001b[1;33m\u001b[0m\u001b[0m\n\u001b[0;32m    436\u001b[0m     \u001b[1;32mdef\u001b[0m \u001b[0mfun_wrapped\u001b[0m\u001b[1;33m(\u001b[0m\u001b[0mx\u001b[0m\u001b[1;33m)\u001b[0m\u001b[1;33m:\u001b[0m\u001b[1;33m\u001b[0m\u001b[1;33m\u001b[0m\u001b[0m\n\u001b[1;32m--> 437\u001b[1;33m         \u001b[0mf\u001b[0m \u001b[1;33m=\u001b[0m \u001b[0mnp\u001b[0m\u001b[1;33m.\u001b[0m\u001b[0matleast_1d\u001b[0m\u001b[1;33m(\u001b[0m\u001b[0mfun\u001b[0m\u001b[1;33m(\u001b[0m\u001b[0mx\u001b[0m\u001b[1;33m,\u001b[0m \u001b[1;33m*\u001b[0m\u001b[0margs\u001b[0m\u001b[1;33m,\u001b[0m \u001b[1;33m**\u001b[0m\u001b[0mkwargs\u001b[0m\u001b[1;33m)\u001b[0m\u001b[1;33m)\u001b[0m\u001b[1;33m\u001b[0m\u001b[1;33m\u001b[0m\u001b[0m\n\u001b[0m\u001b[0;32m    438\u001b[0m         \u001b[1;32mif\u001b[0m \u001b[0mf\u001b[0m\u001b[1;33m.\u001b[0m\u001b[0mndim\u001b[0m \u001b[1;33m>\u001b[0m \u001b[1;36m1\u001b[0m\u001b[1;33m:\u001b[0m\u001b[1;33m\u001b[0m\u001b[1;33m\u001b[0m\u001b[0m\n\u001b[0;32m    439\u001b[0m             raise RuntimeError(\"`fun` return value has \"\n",
      "\u001b[1;32mc:\\Users\\OS-5818\\anaconda3\\lib\\site-packages\\scipy\\optimize\\_differentiable_functions.py\u001b[0m in \u001b[0;36mfun_wrapped\u001b[1;34m(x)\u001b[0m\n\u001b[0;32m    132\u001b[0m             \u001b[1;31m# Overwriting results in undefined behaviour because\u001b[0m\u001b[1;33m\u001b[0m\u001b[1;33m\u001b[0m\u001b[0m\n\u001b[0;32m    133\u001b[0m             \u001b[1;31m# fun(self.x) will change self.x, with the two no longer linked.\u001b[0m\u001b[1;33m\u001b[0m\u001b[1;33m\u001b[0m\u001b[0m\n\u001b[1;32m--> 134\u001b[1;33m             \u001b[1;32mreturn\u001b[0m \u001b[0mfun\u001b[0m\u001b[1;33m(\u001b[0m\u001b[0mnp\u001b[0m\u001b[1;33m.\u001b[0m\u001b[0mcopy\u001b[0m\u001b[1;33m(\u001b[0m\u001b[0mx\u001b[0m\u001b[1;33m)\u001b[0m\u001b[1;33m,\u001b[0m \u001b[1;33m*\u001b[0m\u001b[0margs\u001b[0m\u001b[1;33m)\u001b[0m\u001b[1;33m\u001b[0m\u001b[1;33m\u001b[0m\u001b[0m\n\u001b[0m\u001b[0;32m    135\u001b[0m \u001b[1;33m\u001b[0m\u001b[0m\n\u001b[0;32m    136\u001b[0m         \u001b[1;32mdef\u001b[0m \u001b[0mupdate_fun\u001b[0m\u001b[1;33m(\u001b[0m\u001b[1;33m)\u001b[0m\u001b[1;33m:\u001b[0m\u001b[1;33m\u001b[0m\u001b[1;33m\u001b[0m\u001b[0m\n",
      "\u001b[1;32m~\\AppData\\Local\\Temp/ipykernel_9412/3218209909.py\u001b[0m in \u001b[0;36mloss\u001b[1;34m(parameters)\u001b[0m\n\u001b[0;32m     26\u001b[0m         \u001b[0mvariational\u001b[0m\u001b[1;33m(\u001b[0m\u001b[0mqbits\u001b[0m\u001b[1;33m)\u001b[0m\u001b[1;33m\u001b[0m\u001b[1;33m\u001b[0m\u001b[0m\n\u001b[0;32m     27\u001b[0m \u001b[1;33m\u001b[0m\u001b[0m\n\u001b[1;32m---> 28\u001b[1;33m         \u001b[0mqc\u001b[0m \u001b[1;33m=\u001b[0m \u001b[0mcircuit\u001b[0m\u001b[1;33m.\u001b[0m\u001b[0mto_circ\u001b[0m\u001b[1;33m(\u001b[0m\u001b[1;33m)\u001b[0m\u001b[1;33m\u001b[0m\u001b[1;33m\u001b[0m\u001b[0m\n\u001b[0m\u001b[0;32m     29\u001b[0m         \u001b[0mjob\u001b[0m \u001b[1;33m=\u001b[0m \u001b[0mqc\u001b[0m\u001b[1;33m.\u001b[0m\u001b[0mto_job\u001b[0m\u001b[1;33m(\u001b[0m\u001b[1;33m)\u001b[0m\u001b[1;33m\u001b[0m\u001b[1;33m\u001b[0m\u001b[0m\n\u001b[0;32m     30\u001b[0m         \u001b[0mresult\u001b[0m \u001b[1;33m=\u001b[0m \u001b[0mget_default_qpu\u001b[0m\u001b[1;33m(\u001b[0m\u001b[1;33m)\u001b[0m\u001b[1;33m.\u001b[0m\u001b[0msubmit\u001b[0m\u001b[1;33m(\u001b[0m\u001b[0mjob\u001b[0m\u001b[1;33m)\u001b[0m\u001b[1;33m\u001b[0m\u001b[1;33m\u001b[0m\u001b[0m\n",
      "\u001b[1;32mc:\\Users\\OS-5818\\anaconda3\\lib\\site-packages\\qat\\lang\\AQASM\\program.pyd\u001b[0m in \u001b[0;36mqat.lang.AQASM.program.Program.to_circ\u001b[1;34m()\u001b[0m\n",
      "\u001b[1;32mc:\\Users\\OS-5818\\anaconda3\\lib\\site-packages\\qat\\lang\\AQASM\\program.pyd\u001b[0m in \u001b[0;36mqat.lang.AQASM.program.Program._build\u001b[1;34m()\u001b[0m\n",
      "\u001b[1;32mc:\\Users\\OS-5818\\anaconda3\\lib\\site-packages\\qat\\lang\\AQASM\\operations.pyd\u001b[0m in \u001b[0;36mqat.lang.AQASM.operations.QGateOperation.build_into\u001b[1;34m()\u001b[0m\n",
      "\u001b[1;32mc:\\Users\\OS-5818\\anaconda3\\lib\\site-packages\\qat\\lang\\AQASM\\routines.pyd\u001b[0m in \u001b[0;36mqat.lang.AQASM.routines.QRoutine.build_into\u001b[1;34m()\u001b[0m\n",
      "\u001b[1;32mc:\\Users\\OS-5818\\anaconda3\\lib\\site-packages\\qat\\lang\\AQASM\\routines.pyd\u001b[0m in \u001b[0;36mqat.lang.AQASM.routines._RoutOp.build_into\u001b[1;34m()\u001b[0m\n",
      "\u001b[1;32mc:\\Users\\OS-5818\\anaconda3\\lib\\site-packages\\qat\\lang\\AQASM\\gates.pyd\u001b[0m in \u001b[0;36mqat.lang.AQASM.gates.Gate.build_into\u001b[1;34m()\u001b[0m\n",
      "\u001b[1;32mc:\\Users\\OS-5818\\anaconda3\\lib\\site-packages\\qat\\lang\\parser\\gates_ast.pyd\u001b[0m in \u001b[0;36mqat.lang.parser.gates_ast.ASTCircuitBuilder.apply_gate_by_ast\u001b[1;34m()\u001b[0m\n",
      "\u001b[1;32mc:\\Users\\OS-5818\\anaconda3\\lib\\site-packages\\qat\\lang\\parser\\gates_ast.pyd\u001b[0m in \u001b[0;36mqat.lang.parser.gates_ast.ASTCircuitBuilder.build_op_by_ast\u001b[1;34m()\u001b[0m\n",
      "\u001b[1;32mc:\\Users\\OS-5818\\anaconda3\\lib\\site-packages\\qat\\lang\\parser\\gates_ast.pyd\u001b[0m in \u001b[0;36mqat.lang.parser.gates_ast.ASTCircuitBuilder.insert_by_ast\u001b[1;34m()\u001b[0m\n",
      "\u001b[1;32mc:\\Users\\OS-5818\\anaconda3\\lib\\site-packages\\qat\\core\\circuit_builder\\builder.pyd\u001b[0m in \u001b[0;36mqat.core.circuit_builder.builder.CircuitBuilder.insert_by_signature\u001b[1;34m()\u001b[0m\n",
      "\u001b[1;32mc:\\Users\\OS-5818\\anaconda3\\lib\\site-packages\\qat\\core\\circuit_builder\\gate_dictionary.pyd\u001b[0m in \u001b[0;36mqat.core.circuit_builder.gate_dictionary.compare_gate_definitions\u001b[1;34m()\u001b[0m\n",
      "\u001b[1;32mc:\\Users\\OS-5818\\anaconda3\\lib\\site-packages\\qat\\core\\circuit_builder\\gate_dictionary.pyd\u001b[0m in \u001b[0;36mqat.core.circuit_builder.gate_dictionary.are_close\u001b[1;34m()\u001b[0m\n",
      "\u001b[1;32mc:\\Users\\OS-5818\\anaconda3\\lib\\abc.py\u001b[0m in \u001b[0;36m__instancecheck__\u001b[1;34m(cls, instance)\u001b[0m\n\u001b[0;32m    117\u001b[0m         \u001b[1;32mdef\u001b[0m \u001b[0m__instancecheck__\u001b[0m\u001b[1;33m(\u001b[0m\u001b[0mcls\u001b[0m\u001b[1;33m,\u001b[0m \u001b[0minstance\u001b[0m\u001b[1;33m)\u001b[0m\u001b[1;33m:\u001b[0m\u001b[1;33m\u001b[0m\u001b[1;33m\u001b[0m\u001b[0m\n\u001b[0;32m    118\u001b[0m             \u001b[1;34m\"\"\"Override for isinstance(instance, cls).\"\"\"\u001b[0m\u001b[1;33m\u001b[0m\u001b[1;33m\u001b[0m\u001b[0m\n\u001b[1;32m--> 119\u001b[1;33m             \u001b[1;32mreturn\u001b[0m \u001b[0m_abc_instancecheck\u001b[0m\u001b[1;33m(\u001b[0m\u001b[0mcls\u001b[0m\u001b[1;33m,\u001b[0m \u001b[0minstance\u001b[0m\u001b[1;33m)\u001b[0m\u001b[1;33m\u001b[0m\u001b[1;33m\u001b[0m\u001b[0m\n\u001b[0m\u001b[0;32m    120\u001b[0m \u001b[1;33m\u001b[0m\u001b[0m\n\u001b[0;32m    121\u001b[0m         \u001b[1;32mdef\u001b[0m \u001b[0m__subclasscheck__\u001b[0m\u001b[1;33m(\u001b[0m\u001b[0mcls\u001b[0m\u001b[1;33m,\u001b[0m \u001b[0msubclass\u001b[0m\u001b[1;33m)\u001b[0m\u001b[1;33m:\u001b[0m\u001b[1;33m\u001b[0m\u001b[1;33m\u001b[0m\u001b[0m\n",
      "\u001b[1;31mKeyboardInterrupt\u001b[0m: "
     ]
    }
   ],
   "source": [
    "import scipy\n",
    "from scipy.optimize import minimize\n",
    "\n",
    "iteration=1\n",
    "convergence = []\n",
    "def callback(variational_parameters):\n",
    "    global iteration\n",
    "    convergence.append(loss(variational_parameters))\n",
    "    print(\"Iteration: \", iteration, \" \\t Loss: \",  loss(variational_parameters))\n",
    "    iteration += 1\n",
    "\n",
    "\n",
    "res = scipy.optimize.minimize(loss, x0=np.random.uniform(0, 2*np.pi, num_layers*num_qubits), \n",
    "                                method = 'SLSQP', callback=callback,\n",
    "                                options={'maxiter': 200, 'ftol': 1e-06, 'iprint': 1, 'disp': True, \n",
    "                                'eps': 1.4901161193847656e-08, 'finite_diff_rel_step': None})\n",
    "\n",
    "res"
   ]
  },
  {
   "cell_type": "markdown",
   "metadata": {},
   "source": [
    "## Testing "
   ]
  },
  {
   "cell_type": "code",
   "execution_count": 52,
   "metadata": {},
   "outputs": [
    {
     "ename": "NameError",
     "evalue": "name 'res' is not defined",
     "output_type": "error",
     "traceback": [
      "\u001b[1;31m---------------------------------------------------------------------------\u001b[0m",
      "\u001b[1;31mNameError\u001b[0m                                 Traceback (most recent call last)",
      "\u001b[1;32m~\\AppData\\Local\\Temp/ipykernel_9412/55585251.py\u001b[0m in \u001b[0;36m<module>\u001b[1;34m\u001b[0m\n\u001b[0;32m     39\u001b[0m \u001b[1;33m\u001b[0m\u001b[0m\n\u001b[0;32m     40\u001b[0m \u001b[1;33m\u001b[0m\u001b[0m\n\u001b[1;32m---> 41\u001b[1;33m \u001b[0mprint\u001b[0m\u001b[1;33m(\u001b[0m\u001b[1;34m'\\n \\n \\n Accuracy: '\u001b[0m\u001b[1;33m,\u001b[0m \u001b[0mlen\u001b[0m\u001b[1;33m(\u001b[0m\u001b[0mtesting\u001b[0m\u001b[1;33m(\u001b[0m\u001b[1;33m)\u001b[0m\u001b[1;33m)\u001b[0m\u001b[1;33m/\u001b[0m\u001b[0mlen\u001b[0m\u001b[1;33m(\u001b[0m\u001b[0mtesting_labels\u001b[0m\u001b[1;33m)\u001b[0m\u001b[1;33m)\u001b[0m\u001b[1;33m\u001b[0m\u001b[1;33m\u001b[0m\u001b[0m\n\u001b[0m",
      "\u001b[1;32m~\\AppData\\Local\\Temp/ipykernel_9412/55585251.py\u001b[0m in \u001b[0;36mtesting\u001b[1;34m()\u001b[0m\n\u001b[0;32m     10\u001b[0m         \u001b[0mencoding\u001b[0m \u001b[1;33m=\u001b[0m \u001b[0mdata_embedding\u001b[0m\u001b[1;33m(\u001b[0m\u001b[0mx\u001b[0m\u001b[1;33m=\u001b[0m\u001b[0mv\u001b[0m\u001b[1;33m)\u001b[0m\u001b[1;33m\u001b[0m\u001b[1;33m\u001b[0m\u001b[0m\n\u001b[0;32m     11\u001b[0m         \u001b[1;31m#trained ansatz\u001b[0m\u001b[1;33m\u001b[0m\u001b[1;33m\u001b[0m\u001b[0m\n\u001b[1;32m---> 12\u001b[1;33m         \u001b[0mvariational\u001b[0m \u001b[1;33m=\u001b[0m \u001b[0mansatz\u001b[0m\u001b[1;33m(\u001b[0m\u001b[0mres\u001b[0m\u001b[1;33m[\u001b[0m\u001b[1;34m'x'\u001b[0m\u001b[1;33m]\u001b[0m\u001b[1;33m,\u001b[0m \u001b[0mfeature_len\u001b[0m\u001b[1;33m=\u001b[0m\u001b[0mlen\u001b[0m\u001b[1;33m(\u001b[0m\u001b[0mv\u001b[0m\u001b[1;33m)\u001b[0m\u001b[1;33m,\u001b[0m \u001b[0mnum_layers\u001b[0m\u001b[1;33m=\u001b[0m\u001b[0mnum_layers\u001b[0m\u001b[1;33m)\u001b[0m\u001b[1;33m\u001b[0m\u001b[1;33m\u001b[0m\u001b[0m\n\u001b[0m\u001b[0;32m     13\u001b[0m \u001b[1;33m\u001b[0m\u001b[0m\n\u001b[0;32m     14\u001b[0m         \u001b[1;31m#adding subcircuits into main circuit\u001b[0m\u001b[1;33m\u001b[0m\u001b[1;33m\u001b[0m\u001b[0m\n",
      "\u001b[1;31mNameError\u001b[0m: name 'res' is not defined"
     ]
    }
   ],
   "source": [
    "def testing():\n",
    "    trues = []\n",
    "    for i, y_data in enumerate(testing_labels):\n",
    "\n",
    "        circuit = Program()\n",
    "        v = testing_features.iloc[i].to_numpy()\n",
    "        qbits = circuit.qalloc(len(v))\n",
    "\n",
    "        #create subcircuits\n",
    "        encoding = data_embedding(x=v)\n",
    "        #trained ansatz\n",
    "        variational = ansatz(res['x'], feature_len=len(v), num_layers=num_layers)\n",
    "\n",
    "        #adding subcircuits into main circuit\n",
    "        encoding(qbits)\n",
    "        variational(qbits)\n",
    "        \n",
    "        qc = circuit.to_circ()\n",
    "        job = qc.to_job()\n",
    "        result = get_default_qpu().submit(job)\n",
    "\n",
    "        meas = {}\n",
    "        for sample in result:\n",
    "            meas[sample._state] = sample.probability\n",
    "        \n",
    "        # parity function: Paulistring <ZIIIII> \n",
    "        estimator = - sum([meas[i] for i in range((num_qubits**2)/2)]) + sum([meas[i] for i in range((num_qubits**2)/2, num_qubits**2)])\n",
    "\n",
    "        if (list(testing_labels)[i]== 1 and estimator > 0):\n",
    "            trues.append(1)\n",
    "            print(f\"Sample: {i} \\t Inference: \", True)\n",
    "        elif (list(testing_labels)[i]== -1 and estimator < 0):\n",
    "            trues.append(1)\n",
    "            print(f\"Sample: {i} \\t Inference: \", True)\n",
    "        else:\n",
    "            print(f\"Sample: {i} \\t Inference: \", False, \" - Misclassified\")\n",
    "\n",
    "    return trues\n",
    "\n",
    "\n",
    "print('\\n \\n \\n Accuracy: ', len(testing())/len(testing_labels))"
   ]
  },
  {
   "cell_type": "code",
   "execution_count": null,
   "metadata": {},
   "outputs": [],
   "source": [
    "import matplotlib.pyplot as plt\n",
    "plt.plot(convergence)\n",
    "plt.xlabel(\"Epoch\")\n",
    "plt.ylabel(\"Loss value\")\n",
    "plt.grid()\n"
   ]
  },
  {
   "cell_type": "code",
   "execution_count": null,
   "metadata": {},
   "outputs": [],
   "source": [
    "print(f\" A total of {testing_data.shape[0]} testing samples were used and {len(testing())} were classified correctly.\")"
   ]
  },
  {
   "cell_type": "code",
   "execution_count": null,
   "metadata": {},
   "outputs": [],
   "source": [
    "features.shape"
   ]
  },
  {
   "cell_type": "code",
   "execution_count": 51,
   "metadata": {},
   "outputs": [
    {
     "data": {
      "text/plain": [
       "28    -1\n",
       "72    -1\n",
       "70    -1\n",
       "85     1\n",
       "128    1\n",
       "65    -1\n",
       "127    1\n",
       "42    -1\n",
       "81     1\n",
       "93     1\n",
       "21    -1\n",
       "31    -1\n",
       "26    -1\n",
       "133    1\n",
       "6     -1\n",
       "58    -1\n",
       "125    1\n",
       "139    1\n",
       "64    -1\n",
       "94     1\n",
       "79     1\n",
       "99     1\n",
       "66    -1\n",
       "20    -1\n",
       "34    -1\n",
       "117    1\n",
       "69    -1\n",
       "122    1\n",
       "120    1\n",
       "41    -1\n",
       "Name: labels, dtype: int64"
      ]
     },
     "execution_count": 51,
     "metadata": {},
     "output_type": "execute_result"
    }
   ],
   "source": [
    "testing_labels"
   ]
  },
  {
   "cell_type": "code",
   "execution_count": null,
   "metadata": {},
   "outputs": [],
   "source": []
  }
 ],
 "metadata": {
  "kernelspec": {
   "display_name": "Python 3.9.7 ('base')",
   "language": "python",
   "name": "python3"
  },
  "language_info": {
   "codemirror_mode": {
    "name": "ipython",
    "version": 3
   },
   "file_extension": ".py",
   "mimetype": "text/x-python",
   "name": "python",
   "nbconvert_exporter": "python",
   "pygments_lexer": "ipython3",
   "version": "3.9.7"
  },
  "orig_nbformat": 4,
  "vscode": {
   "interpreter": {
    "hash": "445da9f97fff3e9607fce724e9f5124fca1a39a333bfa2bf5db6a7377ace2fc6"
   }
  }
 },
 "nbformat": 4,
 "nbformat_minor": 2
}
